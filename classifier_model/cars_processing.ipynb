{
 "cells": [
  {
   "cell_type": "code",
   "execution_count": 1,
   "id": "3bba8ccc-496c-4727-b35d-3d5cc85e5972",
   "metadata": {},
   "outputs": [],
   "source": [
    "import pandas as pd"
   ]
  },
  {
   "cell_type": "code",
   "execution_count": 2,
   "id": "e7c61e7f-35fc-43bc-97c5-d9669156aa4a",
   "metadata": {},
   "outputs": [
    {
     "name": "stdout",
     "output_type": "stream",
     "text": [
      "1. Title: Car Evaluation Database\n",
      "\n",
      "2. Sources:\n",
      "   (a) Creator: Marko Bohanec\n",
      "   (b) Donors: Marko Bohanec   (marko.bohanec@ijs.si)\n",
      "               Blaz Zupan      (blaz.zupan@ijs.si)\n",
      "   (c) Date: June, 1997\n",
      "\n",
      "3. Past Usage:\n",
      "\n",
      "   The hierarchical decision model, from which this dataset is\n",
      "   derived, was first presented in \n",
      "\n",
      "   M. Bohanec and V. Rajkovic: Knowledge acquisition and explanation for\n",
      "   multi-attribute decision making. In 8th Intl Workshop on Expert\n",
      "   Systems and their Applications, Avignon, France. pages 59-78, 1988.\n",
      "\n",
      "   Within machine-learning, this dataset was used for the evaluation\n",
      "   of HINT (Hierarchy INduction Tool), which was proved to be able to\n",
      "   completely reconstruct the original hierarchical model. This,\n",
      "   together with a comparison with C4.5, is presented in\n",
      "\n",
      "   B. Zupan, M. Bohanec, I. Bratko, J. Demsar: Machine learning by\n",
      "   function decomposition. ICML-97, Nashville, TN. 1997 (to appear)\n",
      "\n",
      "4. Relevant Information Paragraph:\n",
      "\n",
      "   Car Evaluation Database was derived from a simple hierarchical\n",
      "   decision model originally developed for the demonstration of DEX\n",
      "   (M. Bohanec, V. Rajkovic: Expert system for decision\n",
      "   making. Sistemica 1(1), pp. 145-157, 1990.). The model evaluates\n",
      "   cars according to the following concept structure:\n",
      "\n",
      "   CAR                      car acceptability\n",
      "   . PRICE                  overall price\n",
      "   . . buying               buying price\n",
      "   . . maint                price of the maintenance\n",
      "   . TECH                   technical characteristics\n",
      "   . . COMFORT              comfort\n",
      "   . . . doors              number of doors\n",
      "   . . . persons            capacity in terms of persons to carry\n",
      "   . . . lug_boot           the size of luggage boot\n",
      "   . . safety               estimated safety of the car\n",
      "\n",
      "   Input attributes are printed in lowercase. Besides the target\n",
      "   concept (CAR), the model includes three intermediate concepts:\n",
      "   PRICE, TECH, COMFORT. Every concept is in the original model\n",
      "   related to its lower level descendants by a set of examples (for\n",
      "   these examples sets see http://www-ai.ijs.si/BlazZupan/car.html).\n",
      "\n",
      "   The Car Evaluation Database contains examples with the structural\n",
      "   information removed, i.e., directly relates CAR to the six input\n",
      "   attributes: buying, maint, doors, persons, lug_boot, safety.\n",
      "\n",
      "   Because of known underlying concept structure, this database may be\n",
      "   particularly useful for testing constructive induction and\n",
      "   structure discovery methods.\n",
      "\n",
      "5. Number of Instances: 1728\n",
      "   (instances completely cover the attribute space)\n",
      "\n",
      "6. Number of Attributes: 6\n",
      "\n",
      "7. Attribute Values:\n",
      "\n",
      "   buying       v-high, high, med, low\n",
      "   maint        v-high, high, med, low\n",
      "   doors        2, 3, 4, 5-more\n",
      "   persons      2, 4, more\n",
      "   lug_boot     small, med, big\n",
      "   safety       low, med, high\n",
      "\n",
      "8. Missing Attribute Values: none\n",
      "\n",
      "9. Class Distribution (number of instances per class)\n",
      "\n",
      "   class      N          N[%]\n",
      "   -----------------------------\n",
      "   unacc     1210     (70.023 %) \n",
      "   acc        384     (22.222 %) \n",
      "   good        69     ( 3.993 %) \n",
      "   v-good      65     ( 3.762 %) \n",
      "\n"
     ]
    }
   ],
   "source": [
    "with open(\"/Users/leontan/Documents/Projects/DSAID/cars_dataset/car.names\") as f:\n",
    "    print(f.read())"
   ]
  },
  {
   "cell_type": "code",
   "execution_count": 3,
   "id": "e3e82db6-63dc-4869-a19c-c703e6d37a90",
   "metadata": {},
   "outputs": [],
   "source": [
    "df = pd.read_csv(\"/Users/leontan/Documents/Projects/DSAID/cars_dataset/car.data\",index_col=False,\n",
    "                 header=None,names=[\"buying\",\"maint\",\"doors\",\"persons\",\"lug_boot\",\"safety\",\"class\"])"
   ]
  },
  {
   "cell_type": "code",
   "execution_count": 4,
   "id": "84d0a6bf-57e1-4af8-9dde-ac738389c4e6",
   "metadata": {},
   "outputs": [
    {
     "data": {
      "text/plain": [
       "False"
      ]
     },
     "execution_count": 4,
     "metadata": {},
     "output_type": "execute_result"
    }
   ],
   "source": [
    "any(df.isna().any(axis=1))"
   ]
  },
  {
   "cell_type": "code",
   "execution_count": 5,
   "id": "05776a4b-af24-4ea6-8746-0e15fe883838",
   "metadata": {},
   "outputs": [
    {
     "data": {
      "text/plain": [
       "0          2\n",
       "1          2\n",
       "2          2\n",
       "3          2\n",
       "4          2\n",
       "        ... \n",
       "1723    more\n",
       "1724    more\n",
       "1725    more\n",
       "1726    more\n",
       "1727    more\n",
       "Name: persons, Length: 1728, dtype: object"
      ]
     },
     "execution_count": 5,
     "metadata": {},
     "output_type": "execute_result"
    }
   ],
   "source": [
    "df.pop(\"persons\")"
   ]
  },
  {
   "cell_type": "code",
   "execution_count": 6,
   "id": "b4964113-4563-46ed-9c9b-d35e8ad34b38",
   "metadata": {},
   "outputs": [],
   "source": [
    "from sklearn.preprocessing import OneHotEncoder, LabelBinarizer"
   ]
  },
  {
   "cell_type": "code",
   "execution_count": 7,
   "id": "26f7c451-b73b-490c-a047-71920ecbe9e6",
   "metadata": {},
   "outputs": [],
   "source": [
    "y = df.pop(\"buying\")"
   ]
  },
  {
   "cell_type": "code",
   "execution_count": 8,
   "id": "8f477008-0baf-4eb8-b9f7-a5dfae7729a7",
   "metadata": {},
   "outputs": [],
   "source": [
    "import category_encoders as ce\n",
    "\n",
    "OHE = ce.OneHotEncoder(cols=[\"maint\",\"doors\",\"lug_boot\",\"safety\",\"class\"],use_cat_names=True)\n",
    "train_X = OHE.fit_transform(df)"
   ]
  },
  {
   "cell_type": "code",
   "execution_count": 204,
   "id": "aa74e4de-4f2d-43bf-83b1-cfb3cd2ffceb",
   "metadata": {},
   "outputs": [],
   "source": [
    "lb = LabelBinarizer()\n",
    "lb.fit(y)\n",
    "train_Y = lb.transform(y)"
   ]
  },
  {
   "cell_type": "code",
   "execution_count": 205,
   "id": "20047df4-5d0c-4f8e-808e-3f5b175b7ca5",
   "metadata": {},
   "outputs": [
    {
     "data": {
      "text/plain": [
       "((1296, 18), (432, 18), (1296,), (432,))"
      ]
     },
     "execution_count": 205,
     "metadata": {},
     "output_type": "execute_result"
    }
   ],
   "source": [
    "from sklearn.model_selection import train_test_split\n",
    "\n",
    "# randomly split the data\n",
    "train_x, test_x, train_y, test_y = train_test_split(train_X, y,test_size=0.25,random_state=0)\n",
    "\n",
    "# shape of train and test splits\n",
    "train_x.shape, test_x.shape, train_y.shape, test_y.shape"
   ]
  },
  {
   "cell_type": "code",
   "execution_count": 214,
   "id": "962bc293-dfb5-4a22-89e6-85bf0cdc440e",
   "metadata": {},
   "outputs": [],
   "source": [
    "from sklearn.metrics import accuracy_score, f1_score, precision_score, recall_score\n",
    "def model_check(model):\n",
    "    # fit the model with the training data\n",
    "    model.fit(train_x, train_y)\n",
    "\n",
    "    # predict the target on train and test data\n",
    "    predict_train = model.predict(train_x)\n",
    "    predict_test = model.predict(test_x)\n",
    "\n",
    "    # Root Mean Squared Error on train and test data\n",
    "    print('F1 on train data: ', f1_score(train_y, predict_train, average=\"micro\"))\n",
    "    print('F1 on test data: ', f1_score(test_y, predict_test, average=\"micro\"))\n",
    "    \n",
    "    return model"
   ]
  },
  {
   "cell_type": "code",
   "execution_count": 210,
   "id": "9058e126-b2c1-433a-b494-d56f083c2f9e",
   "metadata": {},
   "outputs": [],
   "source": [
    "from sklearn.neural_network import MLPClassifier\n",
    "from sklearn.neighbors import KNeighborsClassifier\n",
    "from sklearn.svm import SVC\n",
    "from sklearn.gaussian_process import GaussianProcessClassifier\n",
    "from sklearn.gaussian_process.kernels import RBF\n",
    "from sklearn.tree import DecisionTreeClassifier\n",
    "from sklearn.ensemble import RandomForestClassifier, AdaBoostClassifier\n",
    "from sklearn.naive_bayes import GaussianNB\n",
    "from sklearn.discriminant_analysis import QuadraticDiscriminantAnalysis"
   ]
  },
  {
   "cell_type": "code",
   "execution_count": 213,
   "id": "be8909e5-0437-4f3c-a03f-4d440acab0fb",
   "metadata": {},
   "outputs": [],
   "source": [
    "classifiers = [\n",
    "    KNeighborsClassifier(3),\n",
    "    SVC(kernel=\"linear\", C=0.025),\n",
    "    SVC(gamma=2, C=1),\n",
    "    GaussianProcessClassifier(1.0 * RBF(1.0)),\n",
    "    DecisionTreeClassifier(max_depth=5),\n",
    "    RandomForestClassifier(max_depth=5, n_estimators=10, max_features=1),\n",
    "    MLPClassifier(alpha=1, max_iter=1000),\n",
    "    AdaBoostClassifier(),\n",
    "    GaussianNB(),\n",
    "    QuadraticDiscriminantAnalysis(),\n",
    "]\n",
    "classifiers2 = [\n",
    "    SVC(kernel=\"linear\", C=0.025),\n",
    "    AdaBoostClassifier(),\n",
    "    GaussianNB(),\n",
    "]"
   ]
  },
  {
   "cell_type": "code",
   "execution_count": 215,
   "id": "d2021f7c-a073-4f70-93b8-b325efb2e08f",
   "metadata": {
    "tags": []
   },
   "outputs": [
    {
     "name": "stdout",
     "output_type": "stream",
     "text": [
      "F1 on train data:  0.38580246913580246\n",
      "F1 on test data:  0.16435185185185186\n",
      "F1 on train data:  0.3256172839506173\n",
      "F1 on test data:  0.31712962962962965\n",
      "F1 on train data:  0.4228395061728395\n",
      "F1 on test data:  0.1550925925925926\n",
      "F1 on train data:  0.37268518518518523\n",
      "F1 on test data:  0.2916666666666667\n",
      "F1 on train data:  0.35725308641975306\n",
      "F1 on test data:  0.2847222222222222\n",
      "F1 on train data:  0.37345679012345673\n",
      "F1 on test data:  0.25925925925925924\n",
      "F1 on train data:  0.37962962962962965\n",
      "F1 on test data:  0.2847222222222222\n",
      "F1 on train data:  0.341820987654321\n",
      "F1 on test data:  0.3055555555555556\n",
      "F1 on train data:  0.3194444444444444\n",
      "F1 on test data:  0.31712962962962965\n",
      "F1 on train data:  0.2515432098765432\n",
      "F1 on test data:  0.24537037037037038\n"
     ]
    },
    {
     "name": "stderr",
     "output_type": "stream",
     "text": [
      "/Users/leontan/.local/lib/python3.8/site-packages/sklearn/discriminant_analysis.py:878: UserWarning: Variables are collinear\n",
      "  warnings.warn(\"Variables are collinear\")\n",
      "/Users/leontan/.local/lib/python3.8/site-packages/sklearn/discriminant_analysis.py:903: RuntimeWarning: divide by zero encountered in power\n",
      "  X2 = np.dot(Xm, R * (S ** (-0.5)))\n",
      "/Users/leontan/.local/lib/python3.8/site-packages/sklearn/discriminant_analysis.py:903: RuntimeWarning: invalid value encountered in multiply\n",
      "  X2 = np.dot(Xm, R * (S ** (-0.5)))\n",
      "/Users/leontan/.local/lib/python3.8/site-packages/sklearn/discriminant_analysis.py:906: RuntimeWarning: divide by zero encountered in log\n",
      "  u = np.asarray([np.sum(np.log(s)) for s in self.scalings_])\n",
      "/Users/leontan/.local/lib/python3.8/site-packages/sklearn/discriminant_analysis.py:903: RuntimeWarning: divide by zero encountered in power\n",
      "  X2 = np.dot(Xm, R * (S ** (-0.5)))\n",
      "/Users/leontan/.local/lib/python3.8/site-packages/sklearn/discriminant_analysis.py:903: RuntimeWarning: invalid value encountered in multiply\n",
      "  X2 = np.dot(Xm, R * (S ** (-0.5)))\n",
      "/Users/leontan/.local/lib/python3.8/site-packages/sklearn/discriminant_analysis.py:906: RuntimeWarning: divide by zero encountered in log\n",
      "  u = np.asarray([np.sum(np.log(s)) for s in self.scalings_])\n"
     ]
    }
   ],
   "source": [
    "for clf in classifiers:\n",
    "    model_check(clf)"
   ]
  },
  {
   "cell_type": "code",
   "execution_count": 207,
   "id": "e940ec7a-1e17-4b94-8f93-f85e0996a22c",
   "metadata": {},
   "outputs": [
    {
     "name": "stdout",
     "output_type": "stream",
     "text": [
      "F1 on train data:  0.4228395061728395\n",
      "F1 on train data:  0.12962962962962962\n"
     ]
    }
   ],
   "source": [
    "from sklearn.tree import DecisionTreeClassifier\n",
    "trained_model = model_check(DecisionTreeClassifier())"
   ]
  },
  {
   "cell_type": "code",
   "execution_count": 208,
   "id": "8d288766-320f-45c1-a1d9-e62c3540f7c5",
   "metadata": {},
   "outputs": [
    {
     "name": "stdout",
     "output_type": "stream",
     "text": [
      "F1 on train data:  0.38348765432098764\n",
      "F1 on train data:  0.2037037037037037\n"
     ]
    }
   ],
   "source": [
    "from sklearn.neighbors import KNeighborsClassifier\n",
    "trained_model = model_check(KNeighborsClassifier())"
   ]
  },
  {
   "cell_type": "code",
   "execution_count": 209,
   "id": "2e900837-cbfb-49be-96cc-30235e35c59e",
   "metadata": {},
   "outputs": [
    {
     "name": "stdout",
     "output_type": "stream",
     "text": [
      "F1 on train data:  0.4228395061728395\n",
      "F1 on train data:  0.13657407407407407\n"
     ]
    }
   ],
   "source": [
    "from sklearn.ensemble import RandomForestClassifier\n",
    "trained_model = model_check(RandomForestClassifier())"
   ]
  },
  {
   "cell_type": "code",
   "execution_count": 217,
   "id": "39cc099c-8a73-42e0-b681-8c0a996765c1",
   "metadata": {},
   "outputs": [
    {
     "name": "stdout",
     "output_type": "stream",
     "text": [
      "F1 on train data:  0.3541666666666667\n",
      "F1 on test data:  0.3263888888888889\n"
     ]
    }
   ],
   "source": [
    "from sklearn.svm import LinearSVC\n",
    "trained_model = model_check(LinearSVC())"
   ]
  },
  {
   "cell_type": "code",
   "execution_count": 218,
   "id": "52b7e2a2-a235-44ab-9458-5fb375b734e2",
   "metadata": {},
   "outputs": [
    {
     "data": {
      "text/plain": [
       "array(['low'], dtype=object)"
      ]
     },
     "execution_count": 218,
     "metadata": {},
     "output_type": "execute_result"
    }
   ],
   "source": [
    "predict_data = pd.DataFrame([[\"high\",\"4\",\"big\",\"high\",\"good\"]],columns=[\"maint\",\"doors\",\"lug_boot\",\"safety\",\"class\"])\n",
    "predict_data = OHE.transform(predict_data)\n",
    "trained_model.predict(predict_data)"
   ]
  },
  {
   "cell_type": "code",
   "execution_count": 10,
   "id": "a1868d52-0e65-4a9e-9d79-68cabaa4c5fb",
   "metadata": {},
   "outputs": [],
   "source": [
    "import pickle"
   ]
  },
  {
   "cell_type": "code",
   "execution_count": 221,
   "id": "c3d4386e-abca-4c22-aded-f78ed4b6ea70",
   "metadata": {},
   "outputs": [],
   "source": [
    "with open(\"/Users/leontan/Documents/Projects/DSAID/trained_model.pkl\", \"wb\") as open_file:\n",
    "    pickle.dump(trained_model, open_file)"
   ]
  },
  {
   "cell_type": "code",
   "execution_count": 11,
   "id": "0354ec30-ec0a-42d2-8087-ae647bb3ee7b",
   "metadata": {},
   "outputs": [],
   "source": [
    "with open(\"/Users/leontan/Documents/Projects/DSAID/encoder.pkl\", \"wb\") as open_file:\n",
    "    pickle.dump(OHE, open_file)"
   ]
  },
  {
   "cell_type": "code",
   "execution_count": null,
   "id": "6d5163b4-29f3-4068-9f55-98a85ec8f4fe",
   "metadata": {},
   "outputs": [],
   "source": []
  }
 ],
 "metadata": {
  "kernelspec": {
   "display_name": "Python 3 (ipykernel)",
   "language": "python",
   "name": "python3"
  },
  "language_info": {
   "codemirror_mode": {
    "name": "ipython",
    "version": 3
   },
   "file_extension": ".py",
   "mimetype": "text/x-python",
   "name": "python",
   "nbconvert_exporter": "python",
   "pygments_lexer": "ipython3",
   "version": "3.8.12"
  }
 },
 "nbformat": 4,
 "nbformat_minor": 5
}
